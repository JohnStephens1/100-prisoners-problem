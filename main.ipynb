{
 "cells": [
  {
   "cell_type": "code",
   "execution_count": 417,
   "id": "2a5f1a12-c041-4895-adca-c88c00bfc8b3",
   "metadata": {},
   "outputs": [],
   "source": [
    "from random import shuffle"
   ]
  },
  {
   "cell_type": "code",
   "execution_count": null,
   "id": "509136ba-6576-47ea-8b7f-86c39b854153",
   "metadata": {},
   "outputs": [],
   "source": [
    "repeats = 10000\n",
    "n_total = 100"
   ]
  },
  {
   "cell_type": "code",
   "execution_count": 419,
   "id": "ea0877f3-aeab-48eb-82d8-3edd220cb75a",
   "metadata": {},
   "outputs": [],
   "source": [
    "def generate_boxes(n_total):\n",
    "\tboxes = list(range(n_total))\n",
    "\tshuffle(boxes)\n",
    "\treturn boxes"
   ]
  },
  {
   "cell_type": "code",
   "execution_count": 420,
   "id": "6a55cbe4-2826-4bb4-a0be-c1277e89e436",
   "metadata": {},
   "outputs": [],
   "source": [
    "def the_shower_experience(prisoner, boxes, n_total):\n",
    "\tbox_value = prisoner\n",
    "\tfor _ in range(n_total//2):\n",
    "\t\tbox_value = boxes[box_value]\n",
    "\t\tif prisoner == box_value:\n",
    "\t\t\treturn True\n",
    "\treturn False"
   ]
  },
  {
   "cell_type": "code",
   "execution_count": 421,
   "id": "4177fef4-ba21-4569-96cd-68255f0b1951",
   "metadata": {},
   "outputs": [],
   "source": [
    "def get_successes(prisoners, boxes, n_total):\n",
    "\tresults = []\n",
    "\tfor prisoner in prisoners:\n",
    "\t\tresults.append(the_shower_experience(prisoner, boxes, n_total))\n",
    "\treturn results"
   ]
  },
  {
   "cell_type": "code",
   "execution_count": 422,
   "id": "0ef19102-a6bc-4edf-a513-5871273e90f1",
   "metadata": {},
   "outputs": [],
   "source": [
    "def compute_pbb(repeats, n_total):\n",
    "\tprisoners = list(range(n_total))\n",
    "\twins = 0\n",
    "\tfor _ in range(repeats):\n",
    "\t\tif sum(get_successes(prisoners, generate_boxes(n_total), n_total)) == n_total:\n",
    "\t\t\twins += 1\n",
    "\treturn wins / repeats"
   ]
  },
  {
   "cell_type": "code",
   "execution_count": 425,
   "id": "d9251f81-17ea-46ff-bc83-009c0fbbc4c8",
   "metadata": {},
   "outputs": [
    {
     "data": {
      "text/plain": [
       "0.3159"
      ]
     },
     "execution_count": 425,
     "metadata": {},
     "output_type": "execute_result"
    }
   ],
   "source": [
    "compute_pbb(repeats, n_total)"
   ]
  }
 ],
 "metadata": {
  "kernelspec": {
   "display_name": "Python 3 (ipykernel)",
   "language": "python",
   "name": "python3"
  },
  "language_info": {
   "codemirror_mode": {
    "name": "ipython",
    "version": 3
   },
   "file_extension": ".py",
   "mimetype": "text/x-python",
   "name": "python",
   "nbconvert_exporter": "python",
   "pygments_lexer": "ipython3",
   "version": "3.10.4"
  }
 },
 "nbformat": 4,
 "nbformat_minor": 5
}
